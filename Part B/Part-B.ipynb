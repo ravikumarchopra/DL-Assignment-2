{
  "nbformat": 4,
  "nbformat_minor": 0,
  "metadata": {
    "colab": {
      "name": "PartB.ipynb",
      "provenance": []
    },
    "kernelspec": {
      "name": "python3",
      "display_name": "Python 3"
    },
    "language_info": {
      "name": "python"
    },
    "accelerator": "GPU"
  },
  "cells": [
    {
      "cell_type": "markdown",
      "metadata": {
        "id": "cfoB6xiZEO2L"
      },
      "source": [
        "# Wandb Integration"
      ]
    },
    {
      "cell_type": "code",
      "metadata": {
        "id": "L_zG44JbESjT"
      },
      "source": [
        "pip install --upgrade wandb"
      ],
      "execution_count": null,
      "outputs": []
    },
    {
      "cell_type": "code",
      "metadata": {
        "colab": {
          "base_uri": "https://localhost:8080/"
        },
        "id": "_gwc54d1ETsA",
        "outputId": "20181545-2f9d-4aa9-e11d-f62a9643e168"
      },
      "source": [
        "!wandb login dd888f73500a67fc53f9191092b22f3946ac0e02"
      ],
      "execution_count": null,
      "outputs": [
        {
          "output_type": "stream",
          "text": [
            "\u001b[34m\u001b[1mwandb\u001b[0m: Appending key for api.wandb.ai to your netrc file: /root/.netrc\n"
          ],
          "name": "stdout"
        }
      ]
    },
    {
      "cell_type": "code",
      "metadata": {
        "id": "NtIyTA5GEZAE"
      },
      "source": [
        "# Init wandb\n",
        "import wandb\n",
        "from wandb.keras import WandbCallback\n",
        "\n",
        "wandb.init(project=\"assignment-2-Part-A\", entity=\"ravi-kumar\")\n",
        "\n",
        "# Declare Hyperparameters"
      ],
      "execution_count": null,
      "outputs": []
    },
    {
      "cell_type": "markdown",
      "metadata": {
        "id": "htCPFgvgfB1l"
      },
      "source": [
        "# Imports"
      ]
    },
    {
      "cell_type": "code",
      "metadata": {
        "id": "qA_kqh7hBUxo"
      },
      "source": [
        "import numpy as np\n",
        "import tensorflow as tf\n",
        "import tensorflow_hub as hub\n",
        "import matplotlib.pyplot as plt\n",
        "from tensorflow.keras.models import Sequential\n",
        "from keras.preprocessing import image_dataset_from_directory"
      ],
      "execution_count": null,
      "outputs": []
    },
    {
      "cell_type": "markdown",
      "metadata": {
        "id": "eQ1hyJ-qQTdX"
      },
      "source": [
        "# Loading Data"
      ]
    },
    {
      "cell_type": "code",
      "metadata": {
        "id": "WSDHmpEYfKES"
      },
      "source": [
        "def load_data():\n",
        "  with tf.device('/device:GPU:0'):\n",
        "    train_dir='/content/drive/MyDrive/Deep Learning/inaturalist_12K/train'\n",
        "    test_dir='/content/drive/MyDrive/Deep Learning/inaturalist_12K/val'\n",
        "    train_data = image_dataset_from_directory(\n",
        "        train_dir,\n",
        "        labels=\"inferred\",\n",
        "        label_mode=\"categorical\",\n",
        "        class_names=None,\n",
        "        color_mode=\"rgb\",\n",
        "        batch_size=32,\n",
        "        image_size=(256, 256),\n",
        "        shuffle=True,\n",
        "        seed=0,\n",
        "        validation_split=0.1,\n",
        "        subset=\"training\",\n",
        "        interpolation=\"bilinear\",\n",
        "        follow_links=False,\n",
        "    )\n",
        "    val_data = image_dataset_from_directory(\n",
        "        train_dir,\n",
        "        labels=\"inferred\",\n",
        "        label_mode=\"categorical\",\n",
        "        class_names=None,\n",
        "        color_mode=\"rgb\",\n",
        "        batch_size=32,\n",
        "        image_size=(256, 256),\n",
        "        shuffle=True,\n",
        "        seed=0,\n",
        "        validation_split=0.1,\n",
        "        subset=\"validation\",\n",
        "        interpolation=\"bilinear\",\n",
        "        follow_links=False,\n",
        "    )\n",
        "    test_data = image_dataset_from_directory(\n",
        "        test_dir,\n",
        "        labels=\"inferred\",\n",
        "        label_mode=\"categorical\",\n",
        "        class_names=None,\n",
        "        color_mode=\"rgb\",\n",
        "        batch_size=32,\n",
        "        image_size=(256, 256),\n",
        "        shuffle=True,\n",
        "        seed=0,\n",
        "        interpolation=\"bilinear\",\n",
        "        follow_links=False,\n",
        "    )\n",
        "  \n",
        "  return train_data, val_data, test_data\n"
      ],
      "execution_count": null,
      "outputs": []
    },
    {
      "cell_type": "code",
      "metadata": {
        "colab": {
          "base_uri": "https://localhost:8080/"
        },
        "id": "88tLrRzngDfh",
        "outputId": "e38e143c-96d6-4602-8d00-efc0a20aaf16"
      },
      "source": [
        "with tf.device('/device:GPU:0'):\n",
        "  train_data, val_data, test_data=load_data()\n",
        "  class_names=train_data.class_names\n",
        "  # train_data = train_data.cache().prefetch(buffer_size=tf.data.AUTOTUNE)\n",
        "  # val_data = val_data.cache().prefetch(buffer_size=tf.data.AUTOTUNE)\n",
        "  # test_data = test_data.cache().prefetch(buffer_size=tf.data.AUTOTUNE)"
      ],
      "execution_count": null,
      "outputs": [
        {
          "output_type": "stream",
          "text": [
            "Found 10017 files belonging to 10 classes.\n",
            "Using 9016 files for training.\n",
            "Found 10017 files belonging to 10 classes.\n",
            "Using 1001 files for validation.\n",
            "Found 2001 files belonging to 10 classes.\n"
          ],
          "name": "stdout"
        }
      ]
    },
    {
      "cell_type": "markdown",
      "metadata": {
        "id": "Vu9IZNWKBMbo"
      },
      "source": [
        "# Data Augmentation"
      ]
    },
    {
      "cell_type": "code",
      "metadata": {
        "id": "VqqEDKCrBP_j"
      },
      "source": [
        "with tf.device('/device:GPU:0'):\n",
        "  DataAugmentation = Sequential(\n",
        "    [tf.keras.layers.experimental.preprocessing.RandomFlip(\"horizontal_and_vertical\", input_shape=(256, 256, 3)),\n",
        "      tf.keras.layers.experimental.preprocessing.RandomRotation(0.1),\n",
        "      tf.keras.layers.experimental.preprocessing.RandomZoom(0.1),\n",
        "      tf.keras.layers.experimental.preprocessing.RandomTranslation(height_factor=0.2, width_factor=0.2)]\n",
        "  )"
      ],
      "execution_count": null,
      "outputs": []
    },
    {
      "cell_type": "markdown",
      "metadata": {
        "id": "FcFwxTCNvBx2"
      },
      "source": [
        "# Transfer Learning [Q (1)]"
      ]
    },
    {
      "cell_type": "code",
      "metadata": {
        "id": "H_3sRzy-ifpY"
      },
      "source": [
        "def get_model(model_name='InceptionV3', input_shape = (256, 256, 3)):\n",
        "  with tf.device('/device:GPU:0'): \n",
        "    base_model = None\n",
        "\n",
        "    if model_name == 'InceptionResNetV2':\n",
        "      base_model = tf.keras.applications.InceptionResNetV2(input_shape=input_shape, include_top=False,  weights='imagenet')\n",
        "    elif model_name == 'ResNet50':\n",
        "      base_model = tf.keras.applications.ResNet50(input_shape=input_shape, include_top=False,  weights='imagenet')\n",
        "    elif model_name == 'Xception':\n",
        "      base_model = tf.keras.applications.Xception(input_shape=input_shape, include_top=False,  weights='imagenet')\n",
        "    else:  \n",
        "      base_model = tf.keras.applications.InceptionV3(input_shape=input_shape, include_top=False,  weights='imagenet')\n",
        "\n",
        "    inputs = tf.keras.Input(shape=input_shape)\n",
        "    x= DataAugmentation(inputs)\n",
        "    x= tf.keras.layers.experimental.preprocessing.Rescaling(1./255, input_shape=input_shape)(x)\n",
        "    x= base_model(x, training=True)\n",
        "    x = tf.keras.layers.GlobalAveragePooling2D()(x)\n",
        "    x = tf.keras.layers.Dropout(0.2)(x) \n",
        "    outputs = tf.keras.layers.Dense(10, activation='softmax')(x)\n",
        "    model = tf.keras.Model(inputs, outputs)\n",
        "\n",
        "    return base_model, model"
      ],
      "execution_count": null,
      "outputs": []
    },
    {
      "cell_type": "code",
      "metadata": {
        "id": "dELiLK6AAEgD"
      },
      "source": [
        "# with tf.device('/device:GPU:0'):\n",
        "#   input_shape = (256, 256, 3)\n",
        "#   lr = 0.000005\n",
        "#   epochs = 5\n",
        "#   base_model, model = get_Model()\n",
        "\n",
        "#   base_model.trainable = True\n",
        "\n",
        "#   # model.summary()\n",
        "\n",
        "#   model.compile(loss='categorical_crossentropy',\n",
        "#                         optimizer=tf.keras.optimizers.Adam(learning_rate=lr),\n",
        "#                         metrics=['accuracy'])\n",
        "\n",
        "#   model.fit(train_data, validation_data=val_data, epochs=epochs)"
      ],
      "execution_count": null,
      "outputs": []
    },
    {
      "cell_type": "markdown",
      "metadata": {
        "id": "fx3yAVQqvITM"
      },
      "source": [
        "# Fine -Tuning [Q (2)]"
      ]
    },
    {
      "cell_type": "code",
      "metadata": {
        "id": "WxTbP2spvGeU"
      },
      "source": [
        "with tf.device('/device:GPU:0'):\n",
        "  input_shape = (256, 256, 3)\n",
        "  lr = 0.000005\n",
        "  epochs = 5\n",
        "  model_name = 'InceptionResNetV2'\n",
        "\n",
        "  base_model, model = get_Model(model_name)\n",
        "\n",
        "  base_model.trainable = False\n",
        "\n",
        "  # model.summary()\n",
        "\n",
        "  model.compile(loss='categorical_crossentropy',\n",
        "                    optimizer=tf.keras.optimizers.Adam(learning_rate=lr),\n",
        "                    metrics=['accuracy'])\n",
        "\n",
        "  model.fit(train_data, validation_data=val_data, epochs=epochs)\n"
      ],
      "execution_count": null,
      "outputs": []
    },
    {
      "cell_type": "markdown",
      "metadata": {
        "id": "pjb72DyMCwpd"
      },
      "source": [
        "# Comparing InceptionV3, InceptionResNetV2, ResNet50, Xception [Q (3)]"
      ]
    },
    {
      "cell_type": "code",
      "metadata": {
        "id": "E5NNWLL0C4ho"
      },
      "source": [
        "def train():\n",
        "  with tf.device('/device:GPU:0'):\n",
        "    config_defaults = {\n",
        "        'model_name' : 'InceptionV3',\n",
        "        'learning_rate': 0.00001,\n",
        "        'dropout' : 0.2,\n",
        "        'epochs': 5\n",
        "    }\n",
        "    wandb.init(config=config_defaults)\n",
        "    config= wandb.config\n",
        "\n",
        "    input_shape = (256, 256, 3)\n",
        "    lr = config.learning_rate\n",
        "    epochs = config.epochs\n",
        "    model_name = config.model_name\n",
        "\n",
        "    base_model, model = get_model(model_name)\n",
        "\n",
        "    base_model.trainable = True\n",
        "\n",
        "    # model.summary()\n",
        "\n",
        "    model.compile(loss='categorical_crossentropy',\n",
        "                      optimizer=tf.keras.optimizers.Adam(learning_rate=lr),\n",
        "                      metrics=['accuracy'])\n",
        "\n",
        "    model.fit(train_data, validation_data=val_data, epochs=epochs, callbacks=[WandbCallback()])\n"
      ],
      "execution_count": null,
      "outputs": []
    },
    {
      "cell_type": "markdown",
      "metadata": {
        "id": "Fey8luxYB-9U"
      },
      "source": [
        "## Wandb Configurration"
      ]
    },
    {
      "cell_type": "code",
      "metadata": {
        "id": "zxhh7m6HCHur"
      },
      "source": [
        "# Configure the sweep – specify the parameters to search through, the search strategy, the optimization metric et all.\n",
        "sweep_config = {\n",
        "    'method': 'grid', #grid, random\n",
        "    'metric': {\n",
        "      'name': 'accuracy',\n",
        "      'goal': 'maximize'   \n",
        "    },\n",
        "    'parameters': {\n",
        "        'model_name' : {\n",
        "            'values': ['InceptionV3', 'InceptionResNetV2', 'ResNet50', 'Xception']\n",
        "        },\n",
        "        'learning_rate':{\n",
        "            'values': [0.00001]\n",
        "        },\n",
        "        'dropout' :{\n",
        "            'values': [0.2]\n",
        "        },\n",
        "        'epochs':{\n",
        "            'values': [5]\n",
        "        }\n",
        "\n",
        "    }\n",
        "}\n"
      ],
      "execution_count": null,
      "outputs": []
    },
    {
      "cell_type": "code",
      "metadata": {
        "id": "0frZ-geaCjY7"
      },
      "source": [
        "sweep_id = wandb.sweep(sweep_config, entity=\"ravi-kumar\", project=\"assignment-2-Part-B\")\n",
        "wandb.agent(sweep_id, train)"
      ],
      "execution_count": null,
      "outputs": []
    }
  ]
}